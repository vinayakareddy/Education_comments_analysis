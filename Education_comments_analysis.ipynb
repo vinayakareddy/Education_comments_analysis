{
  "nbformat": 4,
  "nbformat_minor": 0,
  "metadata": {
    "colab": {
      "name": "Education comments analysis.ipynb",
      "provenance": [],
      "collapsed_sections": [],
      "authorship_tag": "ABX9TyN6xV/ph3m3p5qjdtdbZsdJ",
      "include_colab_link": true
    },
    "kernelspec": {
      "name": "python3",
      "display_name": "Python 3"
    }
  },
  "cells": [
    {
      "cell_type": "markdown",
      "metadata": {
        "id": "view-in-github",
        "colab_type": "text"
      },
      "source": [
        "<a href=\"https://colab.research.google.com/github/vinayakareddy/Education_comments_analysis/blob/master/Education_comments_analysis.ipynb\" target=\"_parent\"><img src=\"https://colab.research.google.com/assets/colab-badge.svg\" alt=\"Open In Colab\"/></a>"
      ]
    },
    {
      "cell_type": "code",
      "metadata": {
        "id": "efNep5gYQnD-",
        "colab_type": "code",
        "outputId": "6a7c4a20-c8fd-4fa4-c7df-d51fd1bf8191",
        "colab": {
          "base_uri": "https://localhost:8080/",
          "height": 34
        }
      },
      "source": [
        "from google.colab import drive\n",
        "drive.mount('/content/drive')"
      ],
      "execution_count": 0,
      "outputs": [
        {
          "output_type": "stream",
          "text": [
            "Drive already mounted at /content/drive; to attempt to forcibly remount, call drive.mount(\"/content/drive\", force_remount=True).\n"
          ],
          "name": "stdout"
        }
      ]
    },
    {
      "cell_type": "code",
      "metadata": {
        "id": "iN0UCYiyQsJk",
        "colab_type": "code",
        "colab": {}
      },
      "source": [
        "path = \"/content/drive/My Drive/Colab Notebooks/Political dataset/\""
      ],
      "execution_count": 0,
      "outputs": []
    },
    {
      "cell_type": "code",
      "metadata": {
        "id": "uWdhyrjeQsWl",
        "colab_type": "code",
        "outputId": "ca98e738-cd73-4cfd-9243-4e400504f5b6",
        "colab": {
          "base_uri": "https://localhost:8080/",
          "height": 17
        }
      },
      "source": [
        "import keras \n",
        "import numpy as np\n",
        "from keras.preprocessing.text import Tokenizer\n",
        "import numpy as np\n",
        "import pandas as pd\n",
        "from keras.models import Sequential\n",
        "from keras.layers import Dense\n",
        "from keras.preprocessing.sequence import pad_sequences\n",
        "from keras.layers import Input, Dense, Dropout, Embedding, LSTM, Flatten\n",
        "from keras.models import Model\n",
        "from keras.utils import to_categorical\n",
        "from keras.callbacks import ModelCheckpoint\n",
        "import seaborn as sns\n",
        "import matplotlib.pyplot as plt\n",
        "from sklearn.model_selection import train_test_split\n",
        "from sklearn.metrics import accuracy_score\n",
        "plt.style.use('ggplot')\n",
        "%matplotlib inline\n",
        "from IPython.core.display import display, HTML\n",
        "display(HTML(\"<style>.container { width:100% !important; }</style>\"))"
      ],
      "execution_count": 0,
      "outputs": [
        {
          "output_type": "display_data",
          "data": {
            "text/html": [
              "<style>.container { width:100% !important; }</style>"
            ],
            "text/plain": [
              "<IPython.core.display.HTML object>"
            ]
          },
          "metadata": {
            "tags": []
          }
        }
      ]
    },
    {
      "cell_type": "code",
      "metadata": {
        "id": "9piKgH6WQsb3",
        "colab_type": "code",
        "outputId": "6489c205-0b67-40a5-c579-35b14c5d5675",
        "colab": {
          "base_uri": "https://localhost:8080/",
          "height": 204
        }
      },
      "source": [
        "data = pd.read_csv(path+\"education_sentimental analysis.csv\", encoding=\"ISO-8859-1\")\n",
        "\n",
        "data.head()"
      ],
      "execution_count": 0,
      "outputs": [
        {
          "output_type": "execute_result",
          "data": {
            "text/html": [
              "<div>\n",
              "<style scoped>\n",
              "    .dataframe tbody tr th:only-of-type {\n",
              "        vertical-align: middle;\n",
              "    }\n",
              "\n",
              "    .dataframe tbody tr th {\n",
              "        vertical-align: top;\n",
              "    }\n",
              "\n",
              "    .dataframe thead th {\n",
              "        text-align: right;\n",
              "    }\n",
              "</style>\n",
              "<table border=\"1\" class=\"dataframe\">\n",
              "  <thead>\n",
              "    <tr style=\"text-align: right;\">\n",
              "      <th></th>\n",
              "      <th>Video URL</th>\n",
              "      <th>Nickname</th>\n",
              "      <th>Comments</th>\n",
              "      <th>Classification</th>\n",
              "    </tr>\n",
              "  </thead>\n",
              "  <tbody>\n",
              "    <tr>\n",
              "      <th>0</th>\n",
              "      <td>https://www.youtube.com/watch?v=YvLIPPgkJN8</td>\n",
              "      <td>NANHKURAM SHARMA</td>\n",
              "      <td>Sir bahot badhiya</td>\n",
              "      <td>Praising</td>\n",
              "    </tr>\n",
              "    <tr>\n",
              "      <th>1</th>\n",
              "      <td>https://www.youtube.com/watch?v=YvLIPPgkJN8</td>\n",
              "      <td>Chvshprasad</td>\n",
              "      <td>thank you very much sir this class is very hel...</td>\n",
              "      <td>Praising</td>\n",
              "    </tr>\n",
              "    <tr>\n",
              "      <th>2</th>\n",
              "      <td>https://www.youtube.com/watch?v=YvLIPPgkJN8</td>\n",
              "      <td>Adarsh Kumar</td>\n",
              "      <td>75</td>\n",
              "      <td>Answers</td>\n",
              "    </tr>\n",
              "    <tr>\n",
              "      <th>3</th>\n",
              "      <td>https://www.youtube.com/watch?v=YvLIPPgkJN8</td>\n",
              "      <td>Adarsh Kumar</td>\n",
              "      <td>Sahil sir u are A genius</td>\n",
              "      <td>Praising</td>\n",
              "    </tr>\n",
              "    <tr>\n",
              "      <th>4</th>\n",
              "      <td>https://www.youtube.com/watch?v=YvLIPPgkJN8</td>\n",
              "      <td>jyoti kumari</td>\n",
              "      <td>sir RRB Ka kb se state kigyegaa</td>\n",
              "      <td>Neutral</td>\n",
              "    </tr>\n",
              "  </tbody>\n",
              "</table>\n",
              "</div>"
            ],
            "text/plain": [
              "                                     Video URL  ... Classification\n",
              "0  https://www.youtube.com/watch?v=YvLIPPgkJN8  ...       Praising\n",
              "1  https://www.youtube.com/watch?v=YvLIPPgkJN8  ...       Praising\n",
              "2  https://www.youtube.com/watch?v=YvLIPPgkJN8  ...        Answers\n",
              "3  https://www.youtube.com/watch?v=YvLIPPgkJN8  ...       Praising\n",
              "4  https://www.youtube.com/watch?v=YvLIPPgkJN8  ...        Neutral\n",
              "\n",
              "[5 rows x 4 columns]"
            ]
          },
          "metadata": {
            "tags": []
          },
          "execution_count": 236
        }
      ]
    },
    {
      "cell_type": "code",
      "metadata": {
        "id": "FZ-JtSrDQsim",
        "colab_type": "code",
        "outputId": "c9ba2409-2f0f-4a5a-c941-38ded6281b9a",
        "colab": {
          "base_uri": "https://localhost:8080/",
          "height": 419
        }
      },
      "source": [
        "data.drop(['Video URL','Nickname'], axis=1)"
      ],
      "execution_count": 0,
      "outputs": [
        {
          "output_type": "execute_result",
          "data": {
            "text/html": [
              "<div>\n",
              "<style scoped>\n",
              "    .dataframe tbody tr th:only-of-type {\n",
              "        vertical-align: middle;\n",
              "    }\n",
              "\n",
              "    .dataframe tbody tr th {\n",
              "        vertical-align: top;\n",
              "    }\n",
              "\n",
              "    .dataframe thead th {\n",
              "        text-align: right;\n",
              "    }\n",
              "</style>\n",
              "<table border=\"1\" class=\"dataframe\">\n",
              "  <thead>\n",
              "    <tr style=\"text-align: right;\">\n",
              "      <th></th>\n",
              "      <th>Comments</th>\n",
              "      <th>Classification</th>\n",
              "    </tr>\n",
              "  </thead>\n",
              "  <tbody>\n",
              "    <tr>\n",
              "      <th>0</th>\n",
              "      <td>Sir bahot badhiya</td>\n",
              "      <td>Praising</td>\n",
              "    </tr>\n",
              "    <tr>\n",
              "      <th>1</th>\n",
              "      <td>thank you very much sir this class is very hel...</td>\n",
              "      <td>Praising</td>\n",
              "    </tr>\n",
              "    <tr>\n",
              "      <th>2</th>\n",
              "      <td>75</td>\n",
              "      <td>Answers</td>\n",
              "    </tr>\n",
              "    <tr>\n",
              "      <th>3</th>\n",
              "      <td>Sahil sir u are A genius</td>\n",
              "      <td>Praising</td>\n",
              "    </tr>\n",
              "    <tr>\n",
              "      <th>4</th>\n",
              "      <td>sir RRB Ka kb se state kigyegaa</td>\n",
              "      <td>Neutral</td>\n",
              "    </tr>\n",
              "    <tr>\n",
              "      <th>...</th>\n",
              "      <td>...</td>\n",
              "      <td>...</td>\n",
              "    </tr>\n",
              "    <tr>\n",
              "      <th>9523</th>\n",
              "      <td>sir maths ki class kab lagti h</td>\n",
              "      <td>Query</td>\n",
              "    </tr>\n",
              "    <tr>\n",
              "      <th>9524</th>\n",
              "      <td>sir reasoning ki calls kab lagti h</td>\n",
              "      <td>Query</td>\n",
              "    </tr>\n",
              "    <tr>\n",
              "      <th>9525</th>\n",
              "      <td>Sir alzebra k kitne parts bnaye h</td>\n",
              "      <td>Query</td>\n",
              "    </tr>\n",
              "    <tr>\n",
              "      <th>9526</th>\n",
              "      <td>Sir aap mathe kitne time padhate hai</td>\n",
              "      <td>Query</td>\n",
              "    </tr>\n",
              "    <tr>\n",
              "      <th>9527</th>\n",
              "      <td>Sir rpf ki class kb chaalh hogi</td>\n",
              "      <td>Query</td>\n",
              "    </tr>\n",
              "  </tbody>\n",
              "</table>\n",
              "<p>9528 rows × 2 columns</p>\n",
              "</div>"
            ],
            "text/plain": [
              "                                               Comments Classification\n",
              "0                                     Sir bahot badhiya       Praising\n",
              "1     thank you very much sir this class is very hel...       Praising\n",
              "2                                                    75        Answers\n",
              "3                              Sahil sir u are A genius       Praising\n",
              "4                       sir RRB Ka kb se state kigyegaa        Neutral\n",
              "...                                                 ...            ...\n",
              "9523                     sir maths ki class kab lagti h          Query\n",
              "9524                 sir reasoning ki calls kab lagti h          Query\n",
              "9525                  Sir alzebra k kitne parts bnaye h          Query\n",
              "9526               Sir aap mathe kitne time padhate hai          Query\n",
              "9527                    Sir rpf ki class kb chaalh hogi          Query\n",
              "\n",
              "[9528 rows x 2 columns]"
            ]
          },
          "metadata": {
            "tags": []
          },
          "execution_count": 237
        }
      ]
    },
    {
      "cell_type": "code",
      "metadata": {
        "id": "9l-M1DDuQsvo",
        "colab_type": "code",
        "outputId": "73cbef3c-e294-416a-b696-ccc04afb3ca6",
        "colab": {
          "base_uri": "https://localhost:8080/",
          "height": 102
        }
      },
      "source": [
        "data.Classification.value_counts()"
      ],
      "execution_count": 0,
      "outputs": [
        {
          "output_type": "execute_result",
          "data": {
            "text/plain": [
              "Query       2382\n",
              "Praising    2382\n",
              "Neutral     2382\n",
              "Answers     2382\n",
              "Name: Classification, dtype: int64"
            ]
          },
          "metadata": {
            "tags": []
          },
          "execution_count": 238
        }
      ]
    },
    {
      "cell_type": "code",
      "metadata": {
        "id": "RPSnX32NQs7K",
        "colab_type": "code",
        "colab": {}
      },
      "source": [
        "#Convert tags to integers as most of the machine learning¶\n",
        "data['target'] = data.Classification.astype('category').cat.codes\n"
      ],
      "execution_count": 0,
      "outputs": []
    },
    {
      "cell_type": "code",
      "metadata": {
        "id": "-zDootgVQs5j",
        "colab_type": "code",
        "colab": {}
      },
      "source": [
        "#Calculate the number of words in each posts¶\n",
        "data['num_words'] = data.Comments.apply(lambda x : len(x.split()))"
      ],
      "execution_count": 0,
      "outputs": []
    },
    {
      "cell_type": "code",
      "metadata": {
        "id": "PiOVuhjbQs3N",
        "colab_type": "code",
        "outputId": "4e5e07a2-e704-4e2e-8151-5f68caf5c1ea",
        "colab": {
          "base_uri": "https://localhost:8080/",
          "height": 204
        }
      },
      "source": [
        "data.head()"
      ],
      "execution_count": 0,
      "outputs": [
        {
          "output_type": "execute_result",
          "data": {
            "text/html": [
              "<div>\n",
              "<style scoped>\n",
              "    .dataframe tbody tr th:only-of-type {\n",
              "        vertical-align: middle;\n",
              "    }\n",
              "\n",
              "    .dataframe tbody tr th {\n",
              "        vertical-align: top;\n",
              "    }\n",
              "\n",
              "    .dataframe thead th {\n",
              "        text-align: right;\n",
              "    }\n",
              "</style>\n",
              "<table border=\"1\" class=\"dataframe\">\n",
              "  <thead>\n",
              "    <tr style=\"text-align: right;\">\n",
              "      <th></th>\n",
              "      <th>Video URL</th>\n",
              "      <th>Nickname</th>\n",
              "      <th>Comments</th>\n",
              "      <th>Classification</th>\n",
              "      <th>target</th>\n",
              "      <th>num_words</th>\n",
              "    </tr>\n",
              "  </thead>\n",
              "  <tbody>\n",
              "    <tr>\n",
              "      <th>0</th>\n",
              "      <td>https://www.youtube.com/watch?v=YvLIPPgkJN8</td>\n",
              "      <td>NANHKURAM SHARMA</td>\n",
              "      <td>Sir bahot badhiya</td>\n",
              "      <td>Praising</td>\n",
              "      <td>2</td>\n",
              "      <td>3</td>\n",
              "    </tr>\n",
              "    <tr>\n",
              "      <th>1</th>\n",
              "      <td>https://www.youtube.com/watch?v=YvLIPPgkJN8</td>\n",
              "      <td>Chvshprasad</td>\n",
              "      <td>thank you very much sir this class is very hel...</td>\n",
              "      <td>Praising</td>\n",
              "      <td>2</td>\n",
              "      <td>12</td>\n",
              "    </tr>\n",
              "    <tr>\n",
              "      <th>2</th>\n",
              "      <td>https://www.youtube.com/watch?v=YvLIPPgkJN8</td>\n",
              "      <td>Adarsh Kumar</td>\n",
              "      <td>75</td>\n",
              "      <td>Answers</td>\n",
              "      <td>0</td>\n",
              "      <td>1</td>\n",
              "    </tr>\n",
              "    <tr>\n",
              "      <th>3</th>\n",
              "      <td>https://www.youtube.com/watch?v=YvLIPPgkJN8</td>\n",
              "      <td>Adarsh Kumar</td>\n",
              "      <td>Sahil sir u are A genius</td>\n",
              "      <td>Praising</td>\n",
              "      <td>2</td>\n",
              "      <td>6</td>\n",
              "    </tr>\n",
              "    <tr>\n",
              "      <th>4</th>\n",
              "      <td>https://www.youtube.com/watch?v=YvLIPPgkJN8</td>\n",
              "      <td>jyoti kumari</td>\n",
              "      <td>sir RRB Ka kb se state kigyegaa</td>\n",
              "      <td>Neutral</td>\n",
              "      <td>1</td>\n",
              "      <td>7</td>\n",
              "    </tr>\n",
              "  </tbody>\n",
              "</table>\n",
              "</div>"
            ],
            "text/plain": [
              "                                     Video URL  ... num_words\n",
              "0  https://www.youtube.com/watch?v=YvLIPPgkJN8  ...         3\n",
              "1  https://www.youtube.com/watch?v=YvLIPPgkJN8  ...        12\n",
              "2  https://www.youtube.com/watch?v=YvLIPPgkJN8  ...         1\n",
              "3  https://www.youtube.com/watch?v=YvLIPPgkJN8  ...         6\n",
              "4  https://www.youtube.com/watch?v=YvLIPPgkJN8  ...         7\n",
              "\n",
              "[5 rows x 6 columns]"
            ]
          },
          "metadata": {
            "tags": []
          },
          "execution_count": 241
        }
      ]
    },
    {
      "cell_type": "code",
      "metadata": {
        "id": "pWGbq9unQsy4",
        "colab_type": "code",
        "outputId": "e324c495-edd7-4135-957b-0834ad166169",
        "colab": {
          "base_uri": "https://localhost:8080/",
          "height": 419
        }
      },
      "source": [
        "data.drop(['Video URL','Nickname'], axis=1)"
      ],
      "execution_count": 0,
      "outputs": [
        {
          "output_type": "execute_result",
          "data": {
            "text/html": [
              "<div>\n",
              "<style scoped>\n",
              "    .dataframe tbody tr th:only-of-type {\n",
              "        vertical-align: middle;\n",
              "    }\n",
              "\n",
              "    .dataframe tbody tr th {\n",
              "        vertical-align: top;\n",
              "    }\n",
              "\n",
              "    .dataframe thead th {\n",
              "        text-align: right;\n",
              "    }\n",
              "</style>\n",
              "<table border=\"1\" class=\"dataframe\">\n",
              "  <thead>\n",
              "    <tr style=\"text-align: right;\">\n",
              "      <th></th>\n",
              "      <th>Comments</th>\n",
              "      <th>Classification</th>\n",
              "      <th>target</th>\n",
              "      <th>num_words</th>\n",
              "    </tr>\n",
              "  </thead>\n",
              "  <tbody>\n",
              "    <tr>\n",
              "      <th>0</th>\n",
              "      <td>Sir bahot badhiya</td>\n",
              "      <td>Praising</td>\n",
              "      <td>2</td>\n",
              "      <td>3</td>\n",
              "    </tr>\n",
              "    <tr>\n",
              "      <th>1</th>\n",
              "      <td>thank you very much sir this class is very hel...</td>\n",
              "      <td>Praising</td>\n",
              "      <td>2</td>\n",
              "      <td>12</td>\n",
              "    </tr>\n",
              "    <tr>\n",
              "      <th>2</th>\n",
              "      <td>75</td>\n",
              "      <td>Answers</td>\n",
              "      <td>0</td>\n",
              "      <td>1</td>\n",
              "    </tr>\n",
              "    <tr>\n",
              "      <th>3</th>\n",
              "      <td>Sahil sir u are A genius</td>\n",
              "      <td>Praising</td>\n",
              "      <td>2</td>\n",
              "      <td>6</td>\n",
              "    </tr>\n",
              "    <tr>\n",
              "      <th>4</th>\n",
              "      <td>sir RRB Ka kb se state kigyegaa</td>\n",
              "      <td>Neutral</td>\n",
              "      <td>1</td>\n",
              "      <td>7</td>\n",
              "    </tr>\n",
              "    <tr>\n",
              "      <th>...</th>\n",
              "      <td>...</td>\n",
              "      <td>...</td>\n",
              "      <td>...</td>\n",
              "      <td>...</td>\n",
              "    </tr>\n",
              "    <tr>\n",
              "      <th>9523</th>\n",
              "      <td>sir maths ki class kab lagti h</td>\n",
              "      <td>Query</td>\n",
              "      <td>3</td>\n",
              "      <td>7</td>\n",
              "    </tr>\n",
              "    <tr>\n",
              "      <th>9524</th>\n",
              "      <td>sir reasoning ki calls kab lagti h</td>\n",
              "      <td>Query</td>\n",
              "      <td>3</td>\n",
              "      <td>7</td>\n",
              "    </tr>\n",
              "    <tr>\n",
              "      <th>9525</th>\n",
              "      <td>Sir alzebra k kitne parts bnaye h</td>\n",
              "      <td>Query</td>\n",
              "      <td>3</td>\n",
              "      <td>7</td>\n",
              "    </tr>\n",
              "    <tr>\n",
              "      <th>9526</th>\n",
              "      <td>Sir aap mathe kitne time padhate hai</td>\n",
              "      <td>Query</td>\n",
              "      <td>3</td>\n",
              "      <td>7</td>\n",
              "    </tr>\n",
              "    <tr>\n",
              "      <th>9527</th>\n",
              "      <td>Sir rpf ki class kb chaalh hogi</td>\n",
              "      <td>Query</td>\n",
              "      <td>3</td>\n",
              "      <td>7</td>\n",
              "    </tr>\n",
              "  </tbody>\n",
              "</table>\n",
              "<p>9528 rows × 4 columns</p>\n",
              "</div>"
            ],
            "text/plain": [
              "                                               Comments  ... num_words\n",
              "0                                     Sir bahot badhiya  ...         3\n",
              "1     thank you very much sir this class is very hel...  ...        12\n",
              "2                                                    75  ...         1\n",
              "3                              Sahil sir u are A genius  ...         6\n",
              "4                       sir RRB Ka kb se state kigyegaa  ...         7\n",
              "...                                                 ...  ...       ...\n",
              "9523                     sir maths ki class kab lagti h  ...         7\n",
              "9524                 sir reasoning ki calls kab lagti h  ...         7\n",
              "9525                  Sir alzebra k kitne parts bnaye h  ...         7\n",
              "9526               Sir aap mathe kitne time padhate hai  ...         7\n",
              "9527                    Sir rpf ki class kb chaalh hogi  ...         7\n",
              "\n",
              "[9528 rows x 4 columns]"
            ]
          },
          "metadata": {
            "tags": []
          },
          "execution_count": 242
        }
      ]
    },
    {
      "cell_type": "code",
      "metadata": {
        "id": "8BVW8xA6Qssz",
        "colab_type": "code",
        "colab": {}
      },
      "source": [
        "#Set number of classes and target variable¶\n",
        "num_class = len(np.unique(data.Classification.values))\n",
        "y = data['target'].values"
      ],
      "execution_count": 0,
      "outputs": []
    },
    {
      "cell_type": "code",
      "metadata": {
        "id": "UQ8cgvwmQsrQ",
        "colab_type": "code",
        "colab": {}
      },
      "source": [
        "#Tokenize the input¶\n",
        "MAX_LENGTH = 500\n",
        "tokenizer = Tokenizer()\n",
        "tokenizer.fit_on_texts(data.Comments.values)\n",
        "post_seq = tokenizer.texts_to_sequences(data.Comments.values)\n",
        "post_seq_padded = pad_sequences(post_seq, maxlen=MAX_LENGTH)"
      ],
      "execution_count": 0,
      "outputs": []
    },
    {
      "cell_type": "code",
      "metadata": {
        "id": "87jjvgCcQsmp",
        "colab_type": "code",
        "colab": {}
      },
      "source": [
        "X_train, X_test, y_train, y_test = train_test_split(post_seq_padded, y, test_size=0.05)"
      ],
      "execution_count": 0,
      "outputs": []
    },
    {
      "cell_type": "code",
      "metadata": {
        "id": "jx-VeKNWQsgC",
        "colab_type": "code",
        "colab": {}
      },
      "source": [
        "vocab_size = len(tokenizer.word_index) + 1"
      ],
      "execution_count": 0,
      "outputs": []
    },
    {
      "cell_type": "markdown",
      "metadata": {
        "id": "aKP33_6NTAda",
        "colab_type": "text"
      },
      "source": [
        "# **MODELS**\n",
        "# Deep Learning Model : Simple\n"
      ]
    },
    {
      "cell_type": "code",
      "metadata": {
        "id": "WGnfNURiS8sN",
        "colab_type": "code",
        "outputId": "e4073246-514d-41bd-bcae-52879283ea90",
        "colab": {
          "base_uri": "https://localhost:8080/",
          "height": 734
        }
      },
      "source": [
        "inputs = Input(shape=(MAX_LENGTH, ))\n",
        "embedding_layer = Embedding(vocab_size,\n",
        "                            128,\n",
        "                            input_length=MAX_LENGTH)(inputs)\n",
        "x = Flatten()(embedding_layer)\n",
        "x = Dense(32, activation='relu')(x)\n",
        "\n",
        "predictions = Dense(num_class, activation='softmax')(x)\n",
        "model = Model(inputs=[inputs], outputs=predictions)\n",
        "model.compile(optimizer='adam',\n",
        "              loss='categorical_crossentropy',\n",
        "              metrics=['acc'])\n",
        "\n",
        "model.summary()\n",
        "filepath=\"weights-simple.hdf5\"\n",
        "checkpointer = ModelCheckpoint(filepath, monitor='val_acc', verbose=1, save_best_only=True, mode='max')\n",
        "history = model.fit([X_train], batch_size=64, y=to_categorical(y_train), verbose=1, validation_split=0.25, \n",
        "          shuffle=True, epochs=5, callbacks=[checkpointer])"
      ],
      "execution_count": 0,
      "outputs": [
        {
          "output_type": "stream",
          "text": [
            "Model: \"model_12\"\n",
            "_________________________________________________________________\n",
            "Layer (type)                 Output Shape              Param #   \n",
            "=================================================================\n",
            "input_14 (InputLayer)        (None, 500)               0         \n",
            "_________________________________________________________________\n",
            "embedding_20 (Embedding)     (None, 500, 128)          552320    \n",
            "_________________________________________________________________\n",
            "flatten_8 (Flatten)          (None, 64000)             0         \n",
            "_________________________________________________________________\n",
            "dense_130 (Dense)            (None, 32)                2048032   \n",
            "_________________________________________________________________\n",
            "dense_131 (Dense)            (None, 4)                 132       \n",
            "=================================================================\n",
            "Total params: 2,600,484\n",
            "Trainable params: 2,600,484\n",
            "Non-trainable params: 0\n",
            "_________________________________________________________________\n"
          ],
          "name": "stdout"
        },
        {
          "output_type": "stream",
          "text": [
            "/usr/local/lib/python3.6/dist-packages/tensorflow/python/framework/indexed_slices.py:434: UserWarning: Converting sparse IndexedSlices to a dense Tensor of unknown shape. This may consume a large amount of memory.\n",
            "  \"Converting sparse IndexedSlices to a dense Tensor of unknown shape. \"\n"
          ],
          "name": "stderr"
        },
        {
          "output_type": "stream",
          "text": [
            "Train on 6788 samples, validate on 2263 samples\n",
            "Epoch 1/5\n",
            "6788/6788 [==============================] - 6s 952us/step - loss: 1.1738 - acc: 0.4281 - val_loss: 0.8863 - val_acc: 0.7357\n",
            "\n",
            "Epoch 00001: val_acc improved from -inf to 0.73575, saving model to weights-simple.hdf5\n",
            "Epoch 2/5\n",
            "6788/6788 [==============================] - 6s 949us/step - loss: 0.6178 - acc: 0.7821 - val_loss: 0.4776 - val_acc: 0.8144\n",
            "\n",
            "Epoch 00002: val_acc improved from 0.73575 to 0.81441, saving model to weights-simple.hdf5\n",
            "Epoch 3/5\n",
            "6788/6788 [==============================] - 6s 946us/step - loss: 0.3697 - acc: 0.8645 - val_loss: 0.3938 - val_acc: 0.8462\n",
            "\n",
            "Epoch 00003: val_acc improved from 0.81441 to 0.84622, saving model to weights-simple.hdf5\n",
            "Epoch 4/5\n",
            "6788/6788 [==============================] - 6s 944us/step - loss: 0.2898 - acc: 0.8991 - val_loss: 0.3383 - val_acc: 0.8657\n",
            "\n",
            "Epoch 00004: val_acc improved from 0.84622 to 0.86567, saving model to weights-simple.hdf5\n",
            "Epoch 5/5\n",
            "6788/6788 [==============================] - 7s 958us/step - loss: 0.2338 - acc: 0.9160 - val_loss: 0.3311 - val_acc: 0.8621\n",
            "\n",
            "Epoch 00005: val_acc did not improve from 0.86567\n"
          ],
          "name": "stdout"
        }
      ]
    },
    {
      "cell_type": "code",
      "metadata": {
        "id": "8tpcBVBCTPl7",
        "colab_type": "code",
        "outputId": "1546a5f9-3b61-4ffb-d6ce-28b1e436076d",
        "colab": {
          "base_uri": "https://localhost:8080/",
          "height": 282
        }
      },
      "source": [
        "#Understanding the model fit¶\n",
        "df = pd.DataFrame({'epochs':history.epoch, 'accuracy': history.history['acc'], 'validation_accuracy': history.history['val_acc']})\n",
        "g = sns.pointplot(x=\"epochs\", y=\"accuracy\", data=df, fit_reg=False)\n",
        "g = sns.pointplot(x=\"epochs\", y=\"validation_accuracy\", data=df, fit_reg=False, color='green')"
      ],
      "execution_count": 0,
      "outputs": [
        {
          "output_type": "display_data",
          "data": {
            "image/png": "[encoded data removed]",
            "text/plain": [
              "<Figure size 432x288 with 1 Axes>"
            ]
          },
          "metadata": {
            "tags": [],
            "needs_background": "light"
          }
        }
      ]
    },
    {
      "cell_type": "code",
      "metadata": {
        "id": "AVIMJGuhTh5z",
        "colab_type": "code",
        "outputId": "83df3417-967d-4986-ec14-8aa94f47a003",
        "colab": {
          "base_uri": "https://localhost:8080/",
          "height": 34
        }
      },
      "source": [
        "#accuracy\n",
        "predicted = model.predict(X_test)\n",
        "predicted = np.argmax(predicted, axis=1)\n",
        "accuracy_score(y_test, predicted)"
      ],
      "execution_count": 0,
      "outputs": [
        {
          "output_type": "execute_result",
          "data": {
            "text/plain": [
              "0.870020964360587"
            ]
          },
          "metadata": {
            "tags": []
          },
          "execution_count": 257
        }
      ]
    },
    {
      "cell_type": "markdown",
      "metadata": {
        "id": "OWCZp_j7TrOI",
        "colab_type": "text"
      },
      "source": [
        "# Recurrent Neural Networks\n"
      ]
    },
    {
      "cell_type": "code",
      "metadata": {
        "id": "AvzhgMvFTn8O",
        "colab_type": "code",
        "outputId": "e0c340c6-838d-4fb6-c2cc-7d21c3a3dc48",
        "colab": {
          "base_uri": "https://localhost:8080/",
          "height": 323
        }
      },
      "source": [
        "inputs = Input(shape=(MAX_LENGTH, ))\n",
        "embedding_layer = Embedding(vocab_size,\n",
        "                            128,\n",
        "                            input_length=MAX_LENGTH)(inputs)\n",
        "\n",
        "x = LSTM(64)(embedding_layer)\n",
        "x = Dense(32, activation='relu')(x)\n",
        "predictions = Dense(num_class, activation='softmax')(x)\n",
        "model_RNN = Model(inputs=[inputs], outputs=predictions)\n",
        "model_RNN.compile(optimizer='adam',\n",
        "              loss='categorical_crossentropy',\n",
        "              metrics=['acc'])\n",
        "\n",
        "model_RNN.summary()"
      ],
      "execution_count": 0,
      "outputs": [
        {
          "output_type": "stream",
          "text": [
            "Model: \"model_13\"\n",
            "_________________________________________________________________\n",
            "Layer (type)                 Output Shape              Param #   \n",
            "=================================================================\n",
            "input_15 (InputLayer)        (None, 500)               0         \n",
            "_________________________________________________________________\n",
            "embedding_21 (Embedding)     (None, 500, 128)          552320    \n",
            "_________________________________________________________________\n",
            "lstm_12 (LSTM)               (None, 64)                49408     \n",
            "_________________________________________________________________\n",
            "dense_132 (Dense)            (None, 32)                2080      \n",
            "_________________________________________________________________\n",
            "dense_133 (Dense)            (None, 4)                 132       \n",
            "=================================================================\n",
            "Total params: 603,940\n",
            "Trainable params: 603,940\n",
            "Non-trainable params: 0\n",
            "_________________________________________________________________\n"
          ],
          "name": "stdout"
        }
      ]
    },
    {
      "cell_type": "code",
      "metadata": {
        "id": "QbfLREdQTwAg",
        "colab_type": "code",
        "outputId": "188f44ee-3ab5-4ac5-ed18-d7a4e3e534ab",
        "colab": {
          "base_uri": "https://localhost:8080/",
          "height": 428
        }
      },
      "source": [
        "filepath=\"weights.hdf5\"\n",
        "checkpointer = ModelCheckpoint(filepath, monitor='val_acc', verbose=1, save_best_only=True, mode='max')\n",
        "history = model_RNN.fit([X_train], batch_size=64, y=to_categorical(y_train), verbose=1, validation_split=0.25, \n",
        "          shuffle=True, epochs=5, callbacks=[checkpointer])"
      ],
      "execution_count": 0,
      "outputs": [
        {
          "output_type": "stream",
          "text": [
            "/usr/local/lib/python3.6/dist-packages/tensorflow/python/framework/indexed_slices.py:434: UserWarning: Converting sparse IndexedSlices to a dense Tensor of unknown shape. This may consume a large amount of memory.\n",
            "  \"Converting sparse IndexedSlices to a dense Tensor of unknown shape. \"\n"
          ],
          "name": "stderr"
        },
        {
          "output_type": "stream",
          "text": [
            "Train on 6788 samples, validate on 2263 samples\n",
            "Epoch 1/5\n",
            "6788/6788 [==============================] - 63s 9ms/step - loss: 0.8598 - acc: 0.6383 - val_loss: 0.4581 - val_acc: 0.8153\n",
            "\n",
            "Epoch 00001: val_acc improved from -inf to 0.81529, saving model to weights.hdf5\n",
            "Epoch 2/5\n",
            "6788/6788 [==============================] - 65s 10ms/step - loss: 0.3677 - acc: 0.8558 - val_loss: 0.3427 - val_acc: 0.8630\n",
            "\n",
            "Epoch 00002: val_acc improved from 0.81529 to 0.86301, saving model to weights.hdf5\n",
            "Epoch 3/5\n",
            "6788/6788 [==============================] - 65s 10ms/step - loss: 0.2495 - acc: 0.9041 - val_loss: 0.3463 - val_acc: 0.8639\n",
            "\n",
            "Epoch 00003: val_acc improved from 0.86301 to 0.86390, saving model to weights.hdf5\n",
            "Epoch 4/5\n",
            "6788/6788 [==============================] - 66s 10ms/step - loss: 0.1887 - acc: 0.9247 - val_loss: 0.3308 - val_acc: 0.8776\n",
            "\n",
            "Epoch 00004: val_acc improved from 0.86390 to 0.87760, saving model to weights.hdf5\n",
            "Epoch 5/5\n",
            "6788/6788 [==============================] - 70s 10ms/step - loss: 0.1606 - acc: 0.9371 - val_loss: 0.3552 - val_acc: 0.8679\n",
            "\n",
            "Epoch 00005: val_acc did not improve from 0.87760\n"
          ],
          "name": "stdout"
        }
      ]
    },
    {
      "cell_type": "code",
      "metadata": {
        "id": "u0wTOckFT2rl",
        "colab_type": "code",
        "outputId": "c4eaea49-0e3e-45fe-cdb8-e36f0a8e1679",
        "colab": {
          "base_uri": "https://localhost:8080/",
          "height": 285
        }
      },
      "source": [
        "df = pd.DataFrame({'epochs':history.epoch, 'accuracy': history.history['acc'], 'validation_accuracy': history.history['val_acc']})\n",
        "g = sns.pointplot(x=\"epochs\", y=\"accuracy\", data=df, fit_reg=False)\n",
        "g = sns.pointplot(x=\"epochs\", y=\"validation_accuracy\", data=df, fit_reg=False, color='green')"
      ],
      "execution_count": 0,
      "outputs": [
        {
          "output_type": "display_data",
          "data": {
            "image/png": "[encoded data removed]",
            "text/plain": [
              "<Figure size 432x288 with 1 Axes>"
            ]
          },
          "metadata": {
            "tags": [],
            "needs_background": "light"
          }
        }
      ]
    },
    {
      "cell_type": "code",
      "metadata": {
        "id": "V4uWJpx3XGDa",
        "colab_type": "code",
        "outputId": "cad3565c-664c-40f0-da86-2a5053d813b9",
        "colab": {
          "base_uri": "https://localhost:8080/",
          "height": 153
        }
      },
      "source": [
        "model_RNN.load_weights('weights.hdf5')\n",
        "predicted = model_RNN.predict(X_test)\n",
        "predicted"
      ],
      "execution_count": 0,
      "outputs": [
        {
          "output_type": "execute_result",
          "data": {
            "text/plain": [
              "array([[3.3297614e-04, 6.0826087e-01, 3.9080220e-01, 6.0402794e-04],\n",
              "       [1.9503482e-04, 2.1066527e-01, 7.8840435e-01, 7.3529524e-04],\n",
              "       [1.1114709e-05, 1.5656982e-02, 9.8402578e-01, 3.0611249e-04],\n",
              "       ...,\n",
              "       [9.9599177e-01, 1.5201123e-03, 2.0982230e-05, 2.4670633e-03],\n",
              "       [9.3952770e-04, 2.6212206e-01, 1.0438341e-02, 7.2650015e-01],\n",
              "       [8.0374621e-02, 1.3685054e-01, 8.2127767e-04, 7.8195351e-01]],\n",
              "      dtype=float32)"
            ]
          },
          "metadata": {
            "tags": []
          },
          "execution_count": 261
        }
      ]
    },
    {
      "cell_type": "code",
      "metadata": {
        "id": "nZnAfho3XJ18",
        "colab_type": "code",
        "colab": {}
      },
      "source": [
        "#Understanding Softmax¶\n",
        "predicted = np.argmax(predicted, axis=1)"
      ],
      "execution_count": 0,
      "outputs": []
    },
    {
      "cell_type": "code",
      "metadata": {
        "id": "xe7EpMbVXRcG",
        "colab_type": "code",
        "outputId": "08d75084-a121-4681-9c10-30ca6d97b19d",
        "colab": {
          "base_uri": "https://localhost:8080/",
          "height": 34
        }
      },
      "source": [
        "#Lets look at the accuracy¶\n",
        "accuracy_score(y_test, predicted)"
      ],
      "execution_count": 0,
      "outputs": [
        {
          "output_type": "execute_result",
          "data": {
            "text/plain": [
              "0.8637316561844863"
            ]
          },
          "metadata": {
            "tags": []
          },
          "execution_count": 263
        }
      ]
    },
    {
      "cell_type": "code",
      "metadata": {
        "id": "j8-KCF63XUvn",
        "colab_type": "code",
        "colab": {}
      },
      "source": [
        "#We were able to achieve an accuracy score of 88.05% which is pretty good and a huge jump over our simple model.\n",
        "\n"
      ],
      "execution_count": 0,
      "outputs": []
    },
    {
      "cell_type": "markdown",
      "metadata": {
        "id": "nQlRzyOeVIdI",
        "colab_type": "text"
      },
      "source": [
        "# Pre-processing for CNN and LSTM"
      ]
    },
    {
      "cell_type": "code",
      "metadata": {
        "id": "hYqzWJe9dA18",
        "colab_type": "code",
        "colab": {}
      },
      "source": [
        "from keras.preprocessing.text import Tokenizer\n",
        "from keras.preprocessing.sequence import pad_sequences\n",
        "from keras.models import Sequential\n",
        "from keras.layers import Dense, Embedding, LSTM, SpatialDropout1D\n",
        "from sklearn.model_selection import train_test_split\n",
        "from keras.utils.np_utils import to_categorical\n",
        "from keras.callbacks import EarlyStopping"
      ],
      "execution_count": 0,
      "outputs": []
    },
    {
      "cell_type": "code",
      "metadata": {
        "id": "9TyOgCsiVH48",
        "colab_type": "code",
        "outputId": "b5b2a81b-0a1b-4680-8456-a0ed1b5734dd",
        "colab": {
          "base_uri": "https://localhost:8080/",
          "height": 34
        }
      },
      "source": [
        "# The maximum number of words to be used. (most frequent)\n",
        "MAX_NB_WORDS = 50000\n",
        "# Max number of words in each record.\n",
        "MAX_SEQUENCE_LENGTH = 250\n",
        "# This is fixed.\n",
        "EMBEDDING_DIM = 100\n",
        "tokenizer = Tokenizer(num_words=MAX_NB_WORDS, filters='!\"#$%&()*+,-./:;<=>?@[\\]^_`{|}~', lower=True)\n",
        "tokenizer.fit_on_texts(data['Comments'].values)\n",
        "word_index = tokenizer.word_index\n",
        "print('Found %s unique tokens.' % len(word_index))"
      ],
      "execution_count": 0,
      "outputs": [
        {
          "output_type": "stream",
          "text": [
            "Found 4443 unique tokens.\n"
          ],
          "name": "stdout"
        }
      ]
    },
    {
      "cell_type": "code",
      "metadata": {
        "id": "Spo0H4gXZQyq",
        "colab_type": "code",
        "outputId": "77e50a0f-08ef-4a1f-c8db-f8c4866a4f42",
        "colab": {
          "base_uri": "https://localhost:8080/",
          "height": 34
        }
      },
      "source": [
        "X = tokenizer.texts_to_sequences(data['Comments'].values)\n",
        "X = pad_sequences(X, maxlen=MAX_SEQUENCE_LENGTH)\n",
        "print('Shape of data tensor:', X.shape)"
      ],
      "execution_count": 0,
      "outputs": [
        {
          "output_type": "stream",
          "text": [
            "Shape of data tensor: (9528, 250)\n"
          ],
          "name": "stdout"
        }
      ]
    },
    {
      "cell_type": "code",
      "metadata": {
        "id": "PMEg5ikrZCqI",
        "colab_type": "code",
        "outputId": "089963ba-6471-4f3a-9eba-980903976663",
        "colab": {
          "base_uri": "https://localhost:8080/",
          "height": 34
        }
      },
      "source": [
        "Y = pd.get_dummies(data['Classification']).values\n",
        "print('Shape of label tensor:', Y.shape)"
      ],
      "execution_count": 0,
      "outputs": [
        {
          "output_type": "stream",
          "text": [
            "Shape of label tensor: (9528, 4)\n"
          ],
          "name": "stdout"
        }
      ]
    },
    {
      "cell_type": "code",
      "metadata": {
        "id": "sdnkyIKLbdfR",
        "colab_type": "code",
        "outputId": "844410ee-f8ed-4643-d8a1-e111c8ab0750",
        "colab": {
          "base_uri": "https://localhost:8080/",
          "height": 51
        }
      },
      "source": [
        "X_train, X_test, Y_train, Y_test = train_test_split(X,Y, test_size = 0.20, random_state = 42)\n",
        "print(X_train.shape,Y_train.shape)\n",
        "print(X_test.shape,Y_test.shape)"
      ],
      "execution_count": 0,
      "outputs": [
        {
          "output_type": "stream",
          "text": [
            "(7622, 250) (7622, 4)\n",
            "(1906, 250) (1906, 4)\n"
          ],
          "name": "stdout"
        }
      ]
    },
    {
      "cell_type": "markdown",
      "metadata": {
        "id": "8twFBcS2nLvi",
        "colab_type": "text"
      },
      "source": [
        "# LSTM"
      ]
    },
    {
      "cell_type": "code",
      "metadata": {
        "id": "B0QOe56gbtgi",
        "colab_type": "code",
        "outputId": "ff0546ac-e2ef-43a3-aa06-4110b4d6761d",
        "colab": {
          "base_uri": "https://localhost:8080/",
          "height": 258
        }
      },
      "source": [
        "model_LSTM = Sequential()\n",
        "model_LSTM.add(Embedding(MAX_NB_WORDS, EMBEDDING_DIM, input_length=X.shape[1]))\n",
        "model_LSTM.add(SpatialDropout1D(0.2))\n",
        "model_LSTM.add(LSTM(100, dropout=0.2, recurrent_dropout=0.2))\n",
        "model_LSTM.add(Dense(4, activation='softmax'))\n",
        "model_LSTM.compile(loss='categorical_crossentropy', optimizer='adam', metrics=['accuracy'])\n",
        "\n",
        "epochs = 5\n",
        "batch_size = 64\n",
        "\n",
        "history = model_LSTM.fit(X_train, Y_train, epochs=epochs, batch_size=batch_size,validation_split=0.1,callbacks=[EarlyStopping(monitor='val_loss', patience=3, min_delta=0.0001)])\n"
      ],
      "execution_count": 0,
      "outputs": [
        {
          "output_type": "stream",
          "text": [
            "/usr/local/lib/python3.6/dist-packages/tensorflow/python/framework/indexed_slices.py:434: UserWarning: Converting sparse IndexedSlices to a dense Tensor of unknown shape. This may consume a large amount of memory.\n",
            "  \"Converting sparse IndexedSlices to a dense Tensor of unknown shape. \"\n"
          ],
          "name": "stderr"
        },
        {
          "output_type": "stream",
          "text": [
            "Train on 6859 samples, validate on 763 samples\n",
            "Epoch 1/5\n",
            "6859/6859 [==============================] - 49s 7ms/step - loss: 0.9219 - accuracy: 0.6018 - val_loss: 0.5120 - val_accuracy: 0.7720\n",
            "Epoch 2/5\n",
            "6859/6859 [==============================] - 49s 7ms/step - loss: 0.4275 - accuracy: 0.8335 - val_loss: 0.3803 - val_accuracy: 0.8309\n",
            "Epoch 3/5\n",
            "6859/6859 [==============================] - 49s 7ms/step - loss: 0.3023 - accuracy: 0.8813 - val_loss: 0.3162 - val_accuracy: 0.8755\n",
            "Epoch 4/5\n",
            "6859/6859 [==============================] - 49s 7ms/step - loss: 0.2358 - accuracy: 0.9061 - val_loss: 0.3002 - val_accuracy: 0.8742\n",
            "Epoch 5/5\n",
            "6859/6859 [==============================] - 49s 7ms/step - loss: 0.1987 - accuracy: 0.9203 - val_loss: 0.3115 - val_accuracy: 0.8794\n"
          ],
          "name": "stdout"
        }
      ]
    },
    {
      "cell_type": "code",
      "metadata": {
        "id": "LBUQf3uocL-p",
        "colab_type": "code",
        "outputId": "47c409fb-016e-47e6-a013-fee5c609b43c",
        "colab": {
          "base_uri": "https://localhost:8080/",
          "height": 85
        }
      },
      "source": [
        "accr = model_LSTM.evaluate(X_test,Y_test)\n",
        "print('Test set\\n  Loss: {:0.3f}\\n  Accuracy: {:0.3f}'.format(accr[0],accr[1]))"
      ],
      "execution_count": 0,
      "outputs": [
        {
          "output_type": "stream",
          "text": [
            "1906/1906 [==============================] - 3s 2ms/step\n",
            "Test set\n",
            "  Loss: 0.344\n",
            "  Accuracy: 0.871\n"
          ],
          "name": "stdout"
        }
      ]
    },
    {
      "cell_type": "code",
      "metadata": {
        "id": "Jmkkst-rejK0",
        "colab_type": "code",
        "outputId": "6f185c3d-bcd7-42de-8350-baa248833ed7",
        "colab": {
          "base_uri": "https://localhost:8080/",
          "height": 282
        }
      },
      "source": [
        "plt.title('Loss')\n",
        "plt.plot(history.history['loss'], label='train')\n",
        "plt.plot(history.history['val_loss'], label='test')\n",
        "plt.legend()\n",
        "plt.show();"
      ],
      "execution_count": 0,
      "outputs": [
        {
          "output_type": "display_data",
          "data": {
            "image/png": "[encoded data removed]",
            "text/plain": [
              "<Figure size 432x288 with 1 Axes>"
            ]
          },
          "metadata": {
            "tags": [],
            "needs_background": "light"
          }
        }
      ]
    },
    {
      "cell_type": "code",
      "metadata": {
        "id": "-oYIhyelejIY",
        "colab_type": "code",
        "outputId": "126658ee-e8d3-4305-814a-09f73f8b9939",
        "colab": {
          "base_uri": "https://localhost:8080/",
          "height": 282
        }
      },
      "source": [
        "plt.title('Accuracy')\n",
        "plt.plot(history.history['accuracy'], label='train')\n",
        "plt.plot(history.history['val_accuracy'], label='test')\n",
        "plt.legend()\n",
        "plt.show();"
      ],
      "execution_count": 0,
      "outputs": [
        {
          "output_type": "display_data",
          "data": {
            "image/png": "[encoded data removed]",
            "text/plain": [
              "<Figure size 432x288 with 1 Axes>"
            ]
          },
          "metadata": {
            "tags": [],
            "needs_background": "light"
          }
        }
      ]
    },
    {
      "cell_type": "code",
      "metadata": {
        "id": "BbU4iCYMejDj",
        "colab_type": "code",
        "outputId": "4815d524-0a94-475d-c073-55f3d08f204f",
        "colab": {
          "base_uri": "https://localhost:8080/",
          "height": 34
        }
      },
      "source": [
        "new_complaint = ['Sir bahot badhiya']\n",
        "seq = tokenizer.texts_to_sequences(new_complaint)\n",
        "padded = pad_sequences(seq, maxlen=MAX_SEQUENCE_LENGTH)\n",
        "pred = model_LSTM.predict(padded)\n",
        "labels = ['Praising','Answers','Neutral','Query']\n",
        "print(pred, labels[np.argmax(pred)])"
      ],
      "execution_count": 0,
      "outputs": [
        {
          "output_type": "stream",
          "text": [
            "[[5.0739232e-05 4.2161155e-02 9.5729470e-01 4.9334316e-04]] Neutral\n"
          ],
          "name": "stdout"
        }
      ]
    },
    {
      "cell_type": "markdown",
      "metadata": {
        "id": "NlTGClGahD8t",
        "colab_type": "text"
      },
      "source": [
        "# CNN LSTM"
      ]
    },
    {
      "cell_type": "code",
      "metadata": {
        "id": "vaG6pFEnei5Z",
        "colab_type": "code",
        "outputId": "6efb8c11-7645-4d31-90f8-c989f0244a2c",
        "colab": {
          "base_uri": "https://localhost:8080/",
          "height": 258
        }
      },
      "source": [
        "model_CNN = Sequential()\n",
        "model_CNN.add(Embedding(MAX_NB_WORDS, EMBEDDING_DIM, input_length=X.shape[1]))\n",
        "model_CNN.add(Conv1D(64, kernel_size=5, activation='relu')) #64 * 64 # 128 * 128 5 FILTERS i/p - 10 filters +1 = 491\n",
        "model_CNN.add(MaxPooling1D(pool_size=4)) # 4 LAYERS OF POOLING\n",
        "model_CNN.add(Conv1D(64, kernel_size=2, activation='relu'))\n",
        "model_CNN.add(MaxPooling1D(pool_size=4))\n",
        "model_CNN.add(SpatialDropout1D(0.2))\n",
        "model_CNN.add(LSTM(100, dropout=0.2, recurrent_dropout=0.2))\n",
        "model_CNN.add(Dense(4, activation='softmax'))\n",
        "model_CNN.compile(loss='categorical_crossentropy', optimizer='adam', metrics=['accuracy'])\n",
        "\n",
        "epochs = 5\n",
        "batch_size = 64\n",
        "\n",
        "history = model_CNN.fit(X_train, Y_train, epochs=epochs, batch_size=batch_size,validation_split=0.1,callbacks=[EarlyStopping(monitor='val_loss', patience=3, min_delta=0.0001)])\n"
      ],
      "execution_count": 0,
      "outputs": [
        {
          "output_type": "stream",
          "text": [
            "/usr/local/lib/python3.6/dist-packages/tensorflow/python/framework/indexed_slices.py:434: UserWarning: Converting sparse IndexedSlices to a dense Tensor of unknown shape. This may consume a large amount of memory.\n",
            "  \"Converting sparse IndexedSlices to a dense Tensor of unknown shape. \"\n"
          ],
          "name": "stderr"
        },
        {
          "output_type": "stream",
          "text": [
            "Train on 6859 samples, validate on 763 samples\n",
            "Epoch 1/5\n",
            "6859/6859 [==============================] - 21s 3ms/step - loss: 1.1621 - accuracy: 0.4576 - val_loss: 0.9114 - val_accuracy: 0.6068\n",
            "Epoch 2/5\n",
            "6859/6859 [==============================] - 21s 3ms/step - loss: 0.8040 - accuracy: 0.6742 - val_loss: 0.7489 - val_accuracy: 0.7221\n",
            "Epoch 3/5\n",
            "6859/6859 [==============================] - 21s 3ms/step - loss: 0.6485 - accuracy: 0.7501 - val_loss: 0.7064 - val_accuracy: 0.7353\n",
            "Epoch 4/5\n",
            "6859/6859 [==============================] - 21s 3ms/step - loss: 0.5698 - accuracy: 0.7806 - val_loss: 0.6741 - val_accuracy: 0.7457\n",
            "Epoch 5/5\n",
            "6859/6859 [==============================] - 21s 3ms/step - loss: 0.5316 - accuracy: 0.7918 - val_loss: 0.6458 - val_accuracy: 0.7575\n"
          ],
          "name": "stdout"
        }
      ]
    },
    {
      "cell_type": "code",
      "metadata": {
        "id": "WgaQkahghc4J",
        "colab_type": "code",
        "outputId": "9d13b0ab-2a74-48ac-92e7-315a092d74a2",
        "colab": {
          "base_uri": "https://localhost:8080/",
          "height": 85
        }
      },
      "source": [
        "accr = model_CNN.evaluate(X_test,Y_test)\n",
        "print('Test set\\n  Loss: {:0.3f}\\n  Accuracy: {:0.3f}'.format(accr[0],accr[1]))"
      ],
      "execution_count": 0,
      "outputs": [
        {
          "output_type": "stream",
          "text": [
            "1906/1906 [==============================] - 1s 550us/step\n",
            "Test set\n",
            "  Loss: 0.650\n",
            "  Accuracy: 0.752\n"
          ],
          "name": "stdout"
        }
      ]
    },
    {
      "cell_type": "code",
      "metadata": {
        "id": "j-i3vCDyiCLD",
        "colab_type": "code",
        "outputId": "64ebf229-428c-4b6d-a4fa-cb751832b2f9",
        "colab": {
          "base_uri": "https://localhost:8080/",
          "height": 282
        }
      },
      "source": [
        "plt.title('Loss')\n",
        "plt.plot(history.history['loss'], label='train')\n",
        "plt.plot(history.history['val_loss'], label='test')\n",
        "plt.legend()\n",
        "plt.show();"
      ],
      "execution_count": 0,
      "outputs": [
        {
          "output_type": "display_data",
          "data": {
            "image/png": "[encoded data removed]",
            "text/plain": [
              "<Figure size 432x288 with 1 Axes>"
            ]
          },
          "metadata": {
            "tags": [],
            "needs_background": "light"
          }
        }
      ]
    },
    {
      "cell_type": "code",
      "metadata": {
        "id": "LBg-N-rviH9c",
        "colab_type": "code",
        "outputId": "dd5d79fa-5ee3-4693-baa5-0bd28c7cd314",
        "colab": {
          "base_uri": "https://localhost:8080/",
          "height": 282
        }
      },
      "source": [
        "plt.title('Accuracy')\n",
        "plt.plot(history.history['accuracy'], label='train')\n",
        "plt.plot(history.history['val_accuracy'], label='test')\n",
        "plt.legend()\n",
        "plt.show();"
      ],
      "execution_count": 0,
      "outputs": [
        {
          "output_type": "display_data",
          "data": {
            "image/png": "[encoded data removed]",
            "text/plain": [
              "<Figure size 432x288 with 1 Axes>"
            ]
          },
          "metadata": {
            "tags": [],
            "needs_background": "light"
          }
        }
      ]
    },
    {
      "cell_type": "code",
      "metadata": {
        "id": "59iAwa7JiH5Z",
        "colab_type": "code",
        "outputId": "ca20c210-cb1d-4826-ceb5-aef27a09d24f",
        "colab": {
          "base_uri": "https://localhost:8080/",
          "height": 34
        }
      },
      "source": [
        "new_complaint = ['Sir bahot badhiya']\n",
        "seq = tokenizer.texts_to_sequences(new_complaint)\n",
        "padded = pad_sequences(seq, maxlen=MAX_SEQUENCE_LENGTH)\n",
        "pred = model_CNN.predict(padded)\n",
        "labels = ['Praising','Answers','Neutral','Query']\n",
        "print(pred, labels[np.argmax(pred)])"
      ],
      "execution_count": 0,
      "outputs": [
        {
          "output_type": "stream",
          "text": [
            "[[0.0305353  0.76279527 0.17689677 0.02977265]] Answers\n"
          ],
          "name": "stdout"
        }
      ]
    },
    {
      "cell_type": "markdown",
      "metadata": {
        "id": "VuAjbsHKCxSg",
        "colab_type": "text"
      },
      "source": [
        "# **MultiLayer Perceptron using TF-IDF vectorization**"
      ]
    },
    {
      "cell_type": "code",
      "metadata": {
        "id": "3jsQ4G6YDLvr",
        "colab_type": "code",
        "outputId": "4c4e4fe9-04b2-419b-8172-9ef49eca8208",
        "colab": {
          "base_uri": "https://localhost:8080/",
          "height": 51
        }
      },
      "source": [
        "import nltk\n",
        "from sklearn.feature_extraction import text\n",
        "from sklearn.feature_extraction.text import TfidfVectorizer\n",
        "from nltk.corpus import stopwords\n",
        "nltk.download('stopwords')\n",
        "from nltk.tokenize import RegexpTokenizer\n",
        "from nltk.stem.snowball import SnowballStemmer\n",
        "\n",
        "from sklearn.neural_network import MLPClassifier\n",
        "from sklearn.metrics import accuracy_score\n",
        "from sklearn.metrics import confusion_matrix"
      ],
      "execution_count": 0,
      "outputs": [
        {
          "output_type": "stream",
          "text": [
            "[nltk_data] Downloading package stopwords to /root/nltk_data...\n",
            "[nltk_data]   Package stopwords is already up-to-date!\n"
          ],
          "name": "stdout"
        }
      ]
    },
    {
      "cell_type": "code",
      "metadata": {
        "id": "V8pR26QgDhpq",
        "colab_type": "code",
        "outputId": "c8f6892f-c9a6-4645-9d84-51f143334ffd",
        "colab": {
          "base_uri": "https://localhost:8080/",
          "height": 34
        }
      },
      "source": [
        "punc = ['.', ',', '\"', \"'\", '?','??', '!', ':', ';', '(', ')', '[', ']', '{', '}',\"%\",'???']\n",
        "stop_words= punc\n",
        "\n",
        "len(stop_words)\n",
        "#stop_words"
      ],
      "execution_count": 0,
      "outputs": [
        {
          "output_type": "execute_result",
          "data": {
            "text/plain": [
              "17"
            ]
          },
          "metadata": {
            "tags": []
          },
          "execution_count": 304
        }
      ]
    },
    {
      "cell_type": "code",
      "metadata": {
        "id": "9FFUtIWtDV2o",
        "colab_type": "code",
        "outputId": "e6ca1853-3e19-46dc-d405-b0b3d4517678",
        "colab": {
          "base_uri": "https://localhost:8080/",
          "height": 153
        }
      },
      "source": [
        "import nltk\n",
        "nltk.download('averaged_perceptron_tagger')\n",
        "nltk.download('punkt')\n",
        "nltk.download('wordnet')\n",
        "from nltk.tokenize import RegexpTokenizer\n",
        "from nltk.stem import WordNetLemmatizer\n",
        "from nltk.tokenize import sent_tokenize, word_tokenize\n",
        "\n",
        "stemmer = SnowballStemmer('english')\n",
        "\n",
        "wordnet_lemmatizer = WordNetLemmatizer()\n",
        "    \n",
        "tokenizer = RegexpTokenizer(r'[a-zA-Z\\']+')\n",
        "\n",
        "   \n",
        "  \n",
        "def tokenize(text):\n",
        "  wordlist= []\n",
        "  for word in tokenizer.tokenize(text.lower()):\n",
        "    wordlist.append(word) \n",
        "    #wordlisy.append(stemmer.stem(word))\n",
        "  return wordlist"
      ],
      "execution_count": 0,
      "outputs": [
        {
          "output_type": "stream",
          "text": [
            "[nltk_data] Downloading package averaged_perceptron_tagger to\n",
            "[nltk_data]     /root/nltk_data...\n",
            "[nltk_data]   Package averaged_perceptron_tagger is already up-to-\n",
            "[nltk_data]       date!\n",
            "[nltk_data] Downloading package punkt to /root/nltk_data...\n",
            "[nltk_data]   Package punkt is already up-to-date!\n",
            "[nltk_data] Downloading package wordnet to /root/nltk_data...\n",
            "[nltk_data]   Package wordnet is already up-to-date!\n"
          ],
          "name": "stdout"
        }
      ]
    },
    {
      "cell_type": "code",
      "metadata": {
        "id": "5SjEwUo-Cy7E",
        "colab_type": "code",
        "colab": {}
      },
      "source": [
        "vectorizer = TfidfVectorizer(stop_words = stop_words, tokenizer = tokenize, max_features = 5300,ngram_range=(1,5), lowercase= True)\n",
        "tfdf = vectorizer.fit_transform(data.Comments)\n",
        "words = vectorizer.get_feature_names()"
      ],
      "execution_count": 0,
      "outputs": []
    },
    {
      "cell_type": "code",
      "metadata": {
        "id": "jKQxAw_7C0am",
        "colab_type": "code",
        "colab": {}
      },
      "source": [
        "from sklearn.model_selection import train_test_split\n",
        "y= data.Classification\n",
        "X_train, X_test, y_train, y_test = train_test_split( tfdf, y, test_size=0.2, random_state=42)"
      ],
      "execution_count": 0,
      "outputs": []
    },
    {
      "cell_type": "code",
      "metadata": {
        "id": "ErVpdOJxiH0U",
        "colab_type": "code",
        "outputId": "f308e5c4-d9d0-4e5b-e868-4b6700f1c0eb",
        "colab": {
          "base_uri": "https://localhost:8080/",
          "height": 476
        }
      },
      "source": [
        "import numpy as np\n",
        "from keras.models import Sequential\n",
        "from keras.layers import Dense, Dropout\n",
        "mlp = Sequential()\n",
        "mlp.add(Dense(500, input_dim=5300, activation='relu'))\n",
        "mlp.add(Dropout(0.1))\n",
        "mlp.add(Dense(550, activation='relu'))\n",
        "mlp.add(Dropout(0.1))\n",
        "\n",
        "mlp.add(Dense(100, activation='relu'))\n",
        "mlp.add(Dropout(0.1))\n",
        "\n",
        "mlp.add(Dense(10, activation='relu'))\n",
        "mlp.add(Dropout(0.1))\n",
        "\n",
        "\n",
        "mlp.add(Dense(4, activation='sigmoid'))\n",
        "\n",
        "# Compile model\n",
        "from keras import optimizers\n",
        "opt =optimizers.adamax(lr=0.001)\n",
        "mlp.compile(loss='categorical_crossentropy', optimizer=opt, metrics=['accuracy'])\n",
        "print(mlp.summary())"
      ],
      "execution_count": 0,
      "outputs": [
        {
          "output_type": "stream",
          "text": [
            "Model: \"sequential_34\"\n",
            "_________________________________________________________________\n",
            "Layer (type)                 Output Shape              Param #   \n",
            "=================================================================\n",
            "dense_141 (Dense)            (None, 500)               2650500   \n",
            "_________________________________________________________________\n",
            "dropout_85 (Dropout)         (None, 500)               0         \n",
            "_________________________________________________________________\n",
            "dense_142 (Dense)            (None, 550)               275550    \n",
            "_________________________________________________________________\n",
            "dropout_86 (Dropout)         (None, 550)               0         \n",
            "_________________________________________________________________\n",
            "dense_143 (Dense)            (None, 100)               55100     \n",
            "_________________________________________________________________\n",
            "dropout_87 (Dropout)         (None, 100)               0         \n",
            "_________________________________________________________________\n",
            "dense_144 (Dense)            (None, 10)                1010      \n",
            "_________________________________________________________________\n",
            "dropout_88 (Dropout)         (None, 10)                0         \n",
            "_________________________________________________________________\n",
            "dense_145 (Dense)            (None, 4)                 44        \n",
            "=================================================================\n",
            "Total params: 2,982,204\n",
            "Trainable params: 2,982,204\n",
            "Non-trainable params: 0\n",
            "_________________________________________________________________\n",
            "None\n"
          ],
          "name": "stdout"
        }
      ]
    },
    {
      "cell_type": "code",
      "metadata": {
        "id": "gY-5Vfj370HF",
        "colab_type": "code",
        "outputId": "ce997204-fe2d-4887-80c4-2a05efebcf10",
        "colab": {
          "base_uri": "https://localhost:8080/",
          "height": 204
        }
      },
      "source": [
        "import time\n",
        "start_time = time.clock()\n",
        "\n",
        "# Fit the model\n",
        "mlp.fit(X_train, Y_train, epochs=5, batch_size=150 )\n"
      ],
      "execution_count": 0,
      "outputs": [
        {
          "output_type": "stream",
          "text": [
            "Epoch 1/5\n",
            "7622/7622 [==============================] - 4s 481us/step - loss: 1.2704 - accuracy: 0.3431\n",
            "Epoch 2/5\n",
            "7622/7622 [==============================] - 3s 453us/step - loss: 1.0412 - accuracy: 0.6839\n",
            "Epoch 3/5\n",
            "7622/7622 [==============================] - 3s 449us/step - loss: 0.9339 - accuracy: 0.7495\n",
            "Epoch 4/5\n",
            "7622/7622 [==============================] - 3s 459us/step - loss: 0.8096 - accuracy: 0.8252\n",
            "Epoch 5/5\n",
            "7622/7622 [==============================] - 3s 455us/step - loss: 0.6997 - accuracy: 0.8592\n"
          ],
          "name": "stdout"
        },
        {
          "output_type": "execute_result",
          "data": {
            "text/plain": [
              "<keras.callbacks.callbacks.History at 0x7ff4b0290a90>"
            ]
          },
          "metadata": {
            "tags": []
          },
          "execution_count": 309
        }
      ]
    },
    {
      "cell_type": "code",
      "metadata": {
        "id": "Ashz_BHD8ISC",
        "colab_type": "code",
        "outputId": "1dd458b9-7b44-4149-ed5c-ee9065b115ef",
        "colab": {
          "base_uri": "https://localhost:8080/",
          "height": 85
        }
      },
      "source": [
        "accr = mlp.evaluate(X_test,Y_test)\n",
        "print('Test set\\n  Loss: {:0.3f}\\n  Accuracy: {:0.3f}'.format(accr[0],accr[1]))"
      ],
      "execution_count": 0,
      "outputs": [
        {
          "output_type": "stream",
          "text": [
            "1906/1906 [==============================] - 0s 256us/step\n",
            "Test set\n",
            "  Loss: 0.672\n",
            "  Accuracy: 0.853\n"
          ],
          "name": "stdout"
        }
      ]
    },
    {
      "cell_type": "code",
      "metadata": {
        "id": "t13uPNxFGxkl",
        "colab_type": "code",
        "outputId": "11704a64-84ce-44fa-9a63-daceb5a30705",
        "colab": {
          "base_uri": "https://localhost:8080/",
          "height": 282
        }
      },
      "source": [
        "plt.title('Loss')\n",
        "plt.plot(history.history['loss'], label='train')\n",
        "plt.plot(history.history['val_loss'], label='test')\n",
        "plt.legend()\n",
        "plt.show();"
      ],
      "execution_count": 0,
      "outputs": [
        {
          "output_type": "display_data",
          "data": {
            "image/png": "[encoded data removed]",
            "text/plain": [
              "<Figure size 432x288 with 1 Axes>"
            ]
          },
          "metadata": {
            "tags": [],
            "needs_background": "light"
          }
        }
      ]
    },
    {
      "cell_type": "code",
      "metadata": {
        "id": "BjwK0hc3H1Vn",
        "colab_type": "code",
        "outputId": "fc1e203a-72c0-4044-9749-98b7b1a2b159",
        "colab": {
          "base_uri": "https://localhost:8080/",
          "height": 282
        }
      },
      "source": [
        "plt.title('Accuracy')\n",
        "plt.plot(history.history['accuracy'], label='train')\n",
        "plt.plot(history.history['val_accuracy'], label='test')\n",
        "plt.legend()\n",
        "plt.show();"
      ],
      "execution_count": 0,
      "outputs": [
        {
          "output_type": "display_data",
          "data": {
            "image/png": "[encoded data removed]",
            "text/plain": [
              "<Figure size 432x288 with 1 Axes>"
            ]
          },
          "metadata": {
            "tags": [],
            "needs_background": "light"
          }
        }
      ]
    },
    {
      "cell_type": "code",
      "metadata": {
        "id": "Ug6OoVa3H4xR",
        "colab_type": "code",
        "outputId": "cad5a382-ebec-4a80-a7be-4c5c519a5a16",
        "colab": {
          "base_uri": "https://localhost:8080/",
          "height": 231
        }
      },
      "source": [
        "from keras.preprocessing.text import Tokenizer\n",
        "\n",
        "new_complaint = ['Sir bahot badhiya']\n",
        "seq = tokenizer.texts_to_sequences(new_complaint)\n",
        "padded = pad_sequences(seq, maxlen=MAX_SEQUENCE_LENGTH)\n",
        "pred = mlp.predict(padded)\n",
        "labels = ['Praising','Answers','Neutral','Query']\n",
        "print(pred, labels[np.argmax(pred)])"
      ],
      "execution_count": 0,
      "outputs": [
        {
          "output_type": "error",
          "ename": "AttributeError",
          "evalue": "ignored",
          "traceback": [
            "\u001b[0;31m---------------------------------------------------------------------------\u001b[0m",
            "\u001b[0;31mAttributeError\u001b[0m                            Traceback (most recent call last)",
            "\u001b[0;32m<ipython-input-313-dfce4fcef845>\u001b[0m in \u001b[0;36m<module>\u001b[0;34m()\u001b[0m\n\u001b[1;32m      2\u001b[0m \u001b[0;34m\u001b[0m\u001b[0m\n\u001b[1;32m      3\u001b[0m \u001b[0mnew_complaint\u001b[0m \u001b[0;34m=\u001b[0m \u001b[0;34m[\u001b[0m\u001b[0;34m'Sir bahot badhiya'\u001b[0m\u001b[0;34m]\u001b[0m\u001b[0;34m\u001b[0m\u001b[0;34m\u001b[0m\u001b[0m\n\u001b[0;32m----> 4\u001b[0;31m \u001b[0mseq\u001b[0m \u001b[0;34m=\u001b[0m \u001b[0mtokenizer\u001b[0m\u001b[0;34m.\u001b[0m\u001b[0mtexts_to_sequences\u001b[0m\u001b[0;34m(\u001b[0m\u001b[0mnew_complaint\u001b[0m\u001b[0;34m)\u001b[0m\u001b[0;34m\u001b[0m\u001b[0;34m\u001b[0m\u001b[0m\n\u001b[0m\u001b[1;32m      5\u001b[0m \u001b[0mpadded\u001b[0m \u001b[0;34m=\u001b[0m \u001b[0mpad_sequences\u001b[0m\u001b[0;34m(\u001b[0m\u001b[0mseq\u001b[0m\u001b[0;34m,\u001b[0m \u001b[0mmaxlen\u001b[0m\u001b[0;34m=\u001b[0m\u001b[0mMAX_SEQUENCE_LENGTH\u001b[0m\u001b[0;34m)\u001b[0m\u001b[0;34m\u001b[0m\u001b[0;34m\u001b[0m\u001b[0m\n\u001b[1;32m      6\u001b[0m \u001b[0mpred\u001b[0m \u001b[0;34m=\u001b[0m \u001b[0mmlp\u001b[0m\u001b[0;34m.\u001b[0m\u001b[0mpredict\u001b[0m\u001b[0;34m(\u001b[0m\u001b[0mpadded\u001b[0m\u001b[0;34m)\u001b[0m\u001b[0;34m\u001b[0m\u001b[0;34m\u001b[0m\u001b[0m\n",
            "\u001b[0;31mAttributeError\u001b[0m: 'RegexpTokenizer' object has no attribute 'texts_to_sequences'"
          ]
        }
      ]
    },
    {
      "cell_type": "code",
      "metadata": {
        "id": "YWd3oxjeItIw",
        "colab_type": "code",
        "colab": {}
      },
      "source": [
        ""
      ],
      "execution_count": 0,
      "outputs": []
    }
  ]
}